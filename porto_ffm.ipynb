{
 "cells": [
  {
   "cell_type": "code",
   "execution_count": 2,
   "metadata": {},
   "outputs": [],
   "source": [
    "import pandas as pd\n",
    "import numpy as np\n",
    "import lightgbm as lgb\n",
    "import xgboost as xgb\n",
    "from sklearn.metrics import mean_squared_error\n",
    "from sklearn.model_selection import GridSearchCV\n",
    "from sklearn.model_selection import StratifiedKFold\n",
    "import math"
   ]
  },
  {
   "cell_type": "code",
   "execution_count": 144,
   "metadata": {},
   "outputs": [
    {
     "name": "stdout",
     "output_type": "stream",
     "text": [
      "(595212, 59) (892816, 58)\n"
     ]
    }
   ],
   "source": [
    "path = '/axp/rim/imsadsml/warehouse/sagra39/Kaggle/porto/'\n",
    "ffm_train = pd.read_csv(path + 'train_data.csv')\n",
    "ffm_test = pd.read_csv(path + 'test_data.csv')\n",
    "print (ffm_train.shape, ffm_test.shape)"
   ]
  },
  {
   "cell_type": "code",
   "execution_count": 125,
   "metadata": {},
   "outputs": [
    {
     "name": "stdout",
     "output_type": "stream",
     "text": [
      "['ps_ind_06_bin', 'ps_ind_07_bin', 'ps_ind_08_bin', 'ps_ind_09_bin', 'ps_ind_10_bin', 'ps_ind_11_bin', 'ps_ind_12_bin', 'ps_ind_13_bin', 'ps_ind_16_bin', 'ps_ind_17_bin', 'ps_ind_18_bin', 'ps_car_08_cat', 'ps_calc_15_bin', 'ps_calc_16_bin', 'ps_calc_17_bin', 'ps_calc_18_bin', 'ps_calc_19_bin', 'ps_calc_20_bin']\n"
     ]
    }
   ],
   "source": [
    "ffm_train_x = ffm_train.drop('target', axis=1)\n",
    "\n",
    "list_cont = ['ps_car_13', 'ps_reg_03', 'ps_car_14', 'ps_car_12']\n",
    "for i in list_cont:\n",
    "    ffm_train[i] = pd.cut(ffm_train[i], 6, labels=False)\n",
    "list_bin = []\n",
    "for i in ffm_train_x.columns:\n",
    "    if ffm_train_x[i].nunique() == 2:\n",
    "        list_bin.append(i)\n",
    "print (list_bin)"
   ]
  },
  {
   "cell_type": "code",
   "execution_count": 126,
   "metadata": {},
   "outputs": [],
   "source": [
    "for i in ffm_train.columns:\n",
    "    if i not in list_bin and i not in ['id', 'target']:\n",
    "#         print (i)\n",
    "        encode = pd.get_dummies(ffm_train[i], prefix = i)\n",
    "        ffm_train = ffm_train.join(encode).drop(i, axis=1)"
   ]
  },
  {
   "cell_type": "code",
   "execution_count": 51,
   "metadata": {},
   "outputs": [],
   "source": [
    "ffm_train.to_csv(path + 'ffm_train_dataframe.csv', index=False)"
   ]
  },
  {
   "cell_type": "code",
   "execution_count": 130,
   "metadata": {},
   "outputs": [
    {
     "data": {
      "text/plain": [
       "(892816, 492)"
      ]
     },
     "execution_count": 130,
     "metadata": {},
     "output_type": "execute_result"
    }
   ],
   "source": [
    "ffm_test.shape"
   ]
  },
  {
   "cell_type": "markdown",
   "metadata": {},
   "source": [
    "## Test_data"
   ]
  },
  {
   "cell_type": "code",
   "execution_count": 128,
   "metadata": {},
   "outputs": [],
   "source": [
    "ffm_test['target'] = 0\n",
    "ffm_test_x = ffm_test.drop('target', axis=1)\n",
    "\n",
    "list_cont = ['ps_car_13', 'ps_reg_03', 'ps_car_14', 'ps_car_12']\n",
    "for i in list_cont:\n",
    "    ffm_test[i] = pd.cut(ffm_test[i], 6, labels=False)"
   ]
  },
  {
   "cell_type": "code",
   "execution_count": 129,
   "metadata": {},
   "outputs": [],
   "source": [
    "for i in ffm_test.columns:\n",
    "    if i not in list_bin and i not in ['id', 'target']:\n",
    "#         print (i)\n",
    "        encode = pd.get_dummies(ffm_test[i], prefix = i)\n",
    "        ffm_test = ffm_test.join(encode).drop(i, axis=1)"
   ]
  },
  {
   "cell_type": "code",
   "execution_count": 118,
   "metadata": {},
   "outputs": [],
   "source": [
    "# ffm_test['ps_calc_06_0'] = 0\n",
    "# ffm_test['ps_calc_12_10'] = 0\n",
    "# ffm_test['ps_car_12_4'] = 0"
   ]
  },
  {
   "cell_type": "markdown",
   "metadata": {},
   "source": [
    "## LibSVM format"
   ]
  },
  {
   "cell_type": "code",
   "execution_count": 132,
   "metadata": {},
   "outputs": [],
   "source": [
    "data = ffm_train\n",
    "data1 = ffm_test"
   ]
  },
  {
   "cell_type": "code",
   "execution_count": 133,
   "metadata": {},
   "outputs": [],
   "source": [
    "mapping = pd.read_csv(path + 'mapping_new.csv')"
   ]
  },
  {
   "cell_type": "code",
   "execution_count": 134,
   "metadata": {},
   "outputs": [],
   "source": [
    "#field \n",
    "features = mapping['feature'].values \n",
    "mapping = mapping.sort_values(by=['field','index'])"
   ]
  },
  {
   "cell_type": "code",
   "execution_count": 135,
   "metadata": {},
   "outputs": [],
   "source": [
    "index = mapping[['feature','index']].set_index('feature')[['index']].to_dict()['index'] \n",
    "field = mapping[['feature','field']].set_index('feature')[['field']].to_dict()['field']"
   ]
  },
  {
   "cell_type": "code",
   "execution_count": 142,
   "metadata": {},
   "outputs": [],
   "source": [
    "# libsvm=[]\n",
    "# for index1, row in data.iterrows():\n",
    "    \n",
    "#     string = ''\n",
    "#     string += str(row['target']) + ' '\n",
    "#     for feat in features:\n",
    "#         value = int(float(row[feat])) \n",
    "#         if  value > 0:\n",
    "#             string += str(field[feat]) + ':' + str(index[feat]) + ':' + str(value) + ' '\n",
    "#     libsvm.append(string)\n",
    "#     print (index1) \n",
    "# #     break\n",
    "# print ('read')"
   ]
  },
  {
   "cell_type": "code",
   "execution_count": 139,
   "metadata": {},
   "outputs": [
    {
     "name": "stdout",
     "output_type": "stream",
     "text": [
      "                                       libsvm_format\n",
      "0  0 1:2:1 1:10:1 4:14:1 4:15:1 4:18:1 1:21:1 1:2...\n",
      "1  0 1:3:1 1:11:1 3:12:1 4:14:1 4:15:1 4:17:1 1:2...\n",
      "2  0 1:3:1 1:9:1 3:12:1 4:14:1 4:15:1 4:17:1 1:24...\n",
      "3  0 1:1:1 1:9:1 3:12:1 1:19:1 1:28:1 1:34:1 1:45...\n",
      "4  0 1:1:1 1:9:1 3:12:1 4:16:1 4:17:1 1:19:1 1:29...\n",
      "5  0 1:4:1 1:9:1 3:12:1 4:14:1 4:16:1 4:17:1 4:18...\n",
      "6  0 1:2:1 1:9:1 3:12:1 4:14:1 4:17:1 1:21:1 1:28...\n",
      "7  0 1:1:1 1:9:1 3:12:1 4:13:1 4:15:1 4:17:1 1:24...\n",
      "8  0 1:3:1 1:9:1 3:12:1 4:14:1 4:18:1 1:24:1 1:28...\n",
      "9  1 1:2:1 1:11:1 3:12:1 4:14:1 4:17:1 1:20:1 1:2...\n"
     ]
    }
   ],
   "source": [
    "data_libsvm = pd.DataFrame()\n",
    "data_libsvm['libsvm_format'] = libsvm\n",
    "print (data_libsvm.head(10)) \n",
    "data_libsvm.to_csv(path + 'data_libsvm_train_new.csv', index=False)"
   ]
  },
  {
   "cell_type": "code",
   "execution_count": 143,
   "metadata": {},
   "outputs": [],
   "source": [
    "# libsvm=[]\n",
    "# for index1, row in data1.iterrows():\n",
    "    \n",
    "#     string = ''\n",
    "#     string += str(row['target']) + ' '\n",
    "#     for feat in features:\n",
    "#         value = int(float(row[feat])) \n",
    "#         if  value > 0:\n",
    "#             string += str(field[feat]) + ':' + str(index[feat]) + ':' + str(value) + ' '\n",
    "#     libsvm.append(string)\n",
    "#     print (index1) \n",
    "# #     break\n",
    "# print ('read')"
   ]
  },
  {
   "cell_type": "code",
   "execution_count": 141,
   "metadata": {},
   "outputs": [
    {
     "name": "stdout",
     "output_type": "stream",
     "text": [
      "                                       libsvm_format\n",
      "0  0 1:2:1 1:9:1 3:12:1 4:14:1 4:15:1 4:18:1 1:19...\n",
      "1  0 1:4:1 1:9:1 3:12:1 4:15:1 4:16:1 4:18:1 1:23...\n",
      "2  0 1:4:1 3:12:1 1:24:1 1:28:1 1:35:1 1:45:1 1:4...\n",
      "3  0 1:1:1 1:9:1 3:12:1 4:13:1 4:15:1 1:19:1 1:28...\n",
      "4  0 1:4:1 1:9:1 3:12:1 4:14:1 4:15:1 4:18:1 1:24...\n",
      "5  0 1:1:1 1:9:1 4:13:1 4:15:1 4:17:1 1:19:1 1:28...\n",
      "6  0 1:2:1 1:10:1 3:12:1 4:13:1 4:14:1 1:19:1 1:2...\n",
      "7  0 1:1:1 1:9:1 3:12:1 4:14:1 1:19:1 1:28:1 1:32...\n",
      "8  0 1:2:1 1:9:1 4:15:1 1:19:1 1:28:1 1:39:1 1:45...\n",
      "9  0 1:4:1 1:10:1 3:12:1 4:14:1 4:15:1 1:20:1 1:2...\n"
     ]
    }
   ],
   "source": [
    "data_libsvm = pd.DataFrame()\n",
    "data_libsvm['libsvm_format'] = libsvm\n",
    "print (data_libsvm.head(10)) \n",
    "data_libsvm.to_csv(path + 'data_libsvm_test_new.csv', index=False)"
   ]
  },
  {
   "cell_type": "markdown",
   "metadata": {},
   "source": [
    "## Test_data submission"
   ]
  },
  {
   "cell_type": "code",
   "execution_count": 153,
   "metadata": {},
   "outputs": [],
   "source": [
    "path_ffm = '/axp/rim/imsadsml/warehouse/sagra39/Kaggle/porto/ffm/'\n",
    "dt_final = pd.read_csv(path_ffm + 'out_file_new.csv', header=None)\n",
    "dt_final.columns = ['target']"
   ]
  },
  {
   "cell_type": "code",
   "execution_count": 154,
   "metadata": {},
   "outputs": [],
   "source": [
    "final_sub = ffm_test[['id']].join(dt_final['target'])\n",
    "final_sub.to_csv(path_ffm + 'final_sub_ffm2.csv', index=False)"
   ]
  },
  {
   "cell_type": "code",
   "execution_count": 150,
   "metadata": {},
   "outputs": [
    {
     "data": {
      "text/html": [
       "<div>\n",
       "<table border=\"1\" class=\"dataframe\">\n",
       "  <thead>\n",
       "    <tr style=\"text-align: right;\">\n",
       "      <th></th>\n",
       "      <th>target</th>\n",
       "    </tr>\n",
       "  </thead>\n",
       "  <tbody>\n",
       "    <tr>\n",
       "      <th>0</th>\n",
       "      <td>0.500000</td>\n",
       "    </tr>\n",
       "    <tr>\n",
       "      <th>1</th>\n",
       "      <td>0.034300</td>\n",
       "    </tr>\n",
       "    <tr>\n",
       "      <th>2</th>\n",
       "      <td>0.039399</td>\n",
       "    </tr>\n",
       "    <tr>\n",
       "      <th>3</th>\n",
       "      <td>0.027810</td>\n",
       "    </tr>\n",
       "    <tr>\n",
       "      <th>4</th>\n",
       "      <td>0.019481</td>\n",
       "    </tr>\n",
       "  </tbody>\n",
       "</table>\n",
       "</div>"
      ],
      "text/plain": [
       "     target\n",
       "0  0.500000\n",
       "1  0.034300\n",
       "2  0.039399\n",
       "3  0.027810\n",
       "4  0.019481"
      ]
     },
     "execution_count": 150,
     "metadata": {},
     "output_type": "execute_result"
    }
   ],
   "source": [
    "dt_final.head()"
   ]
  },
  {
   "cell_type": "markdown",
   "metadata": {},
   "source": [
    "## Ensemble"
   ]
  },
  {
   "cell_type": "code",
   "execution_count": 3,
   "metadata": {},
   "outputs": [],
   "source": [
    "path_new = '/axp/rim/imsadsml/warehouse/sagra39/Kaggle/porto/'\n",
    "# xgb_submit = pd.read_csv(path_new + 'xgb_submit.csv')\n",
    "# sub8 = pd.read_csv(path_new + 'final_sub8.csv')\n",
    "# CNN = pd.read_csv(path_new + 'sub_286.csv')\n",
    "\n",
    "CNN = pd.read_csv(path_new + 'NN_EntityEmbed_10fold-sub.csv')\n",
    "xgb_submit = pd.read_csv(path_new + 'kagglemix.csv')\n",
    "sub8 = pd.read_csv(path_new + 'sub_harmonic.csv')\n",
    "\n",
    "CNN.columns = ['id','target_z']\n",
    "xgb_submit.columns = ['id','target_x']\n",
    "sub8.columns = ['id','target_y']"
   ]
  },
  {
   "cell_type": "code",
   "execution_count": 11,
   "metadata": {},
   "outputs": [
    {
     "data": {
      "text/html": [
       "<div>\n",
       "<table border=\"1\" class=\"dataframe\">\n",
       "  <thead>\n",
       "    <tr style=\"text-align: right;\">\n",
       "      <th></th>\n",
       "      <th>id</th>\n",
       "      <th>target_y</th>\n",
       "      <th>target_z</th>\n",
       "      <th>target_x</th>\n",
       "      <th>target</th>\n",
       "    </tr>\n",
       "  </thead>\n",
       "  <tbody>\n",
       "    <tr>\n",
       "      <th>0</th>\n",
       "      <td>0</td>\n",
       "      <td>0.039599</td>\n",
       "      <td>0.063642</td>\n",
       "      <td>0.319118</td>\n",
       "      <td>0.098705</td>\n",
       "    </tr>\n",
       "    <tr>\n",
       "      <th>1</th>\n",
       "      <td>1</td>\n",
       "      <td>0.037633</td>\n",
       "      <td>0.050519</td>\n",
       "      <td>0.282084</td>\n",
       "      <td>0.085509</td>\n",
       "    </tr>\n",
       "    <tr>\n",
       "      <th>2</th>\n",
       "      <td>2</td>\n",
       "      <td>0.035949</td>\n",
       "      <td>0.048191</td>\n",
       "      <td>0.217847</td>\n",
       "      <td>0.074687</td>\n",
       "    </tr>\n",
       "    <tr>\n",
       "      <th>3</th>\n",
       "      <td>3</td>\n",
       "      <td>0.021835</td>\n",
       "      <td>0.031298</td>\n",
       "      <td>0.040522</td>\n",
       "      <td>0.030285</td>\n",
       "    </tr>\n",
       "    <tr>\n",
       "      <th>4</th>\n",
       "      <td>4</td>\n",
       "      <td>0.050036</td>\n",
       "      <td>0.069389</td>\n",
       "      <td>0.563168</td>\n",
       "      <td>0.146550</td>\n",
       "    </tr>\n",
       "  </tbody>\n",
       "</table>\n",
       "</div>"
      ],
      "text/plain": [
       "   id  target_y  target_z  target_x    target\n",
       "0   0  0.039599  0.063642  0.319118  0.098705\n",
       "1   1  0.037633  0.050519  0.282084  0.085509\n",
       "2   2  0.035949  0.048191  0.217847  0.074687\n",
       "3   3  0.021835  0.031298  0.040522  0.030285\n",
       "4   4  0.050036  0.069389  0.563168  0.146550"
      ]
     },
     "execution_count": 11,
     "metadata": {},
     "output_type": "execute_result"
    }
   ],
   "source": [
    "Ensemble_cnn_sub8.head()"
   ]
  },
  {
   "cell_type": "code",
   "execution_count": 7,
   "metadata": {},
   "outputs": [],
   "source": [
    "Ensemble_cnn_sub8 = CNN.merge(sub8, on='id', how='inner')\n",
    "Ensemble_cnn_sub8['target'] = Ensemble_cnn_sub8.apply(lambda row: 1/(1+math.exp(-(math.log(row['target_z']/(1-row['target_z']))+math.log(row['target_y']/(1-row['target_y'])))/2)), axis=1)"
   ]
  },
  {
   "cell_type": "code",
   "execution_count": 10,
   "metadata": {},
   "outputs": [],
   "source": [
    "Ensemble_cnn_sub8 = sub8.merge(CNN, on='id', how='inner').merge(xgb_submit, on='id', how='inner')\n",
    "Ensemble_cnn_sub8['target'] = Ensemble_cnn_sub8.apply(lambda row: 1/(1+math.exp(-(math.log(row['target_x']/(1-row['target_x']))+math.log(row['target_z']/(1-row['target_z']))+math.log(row['target_y']/(1-row['target_y'])))/3)), axis=1)"
   ]
  },
  {
   "cell_type": "code",
   "execution_count": 12,
   "metadata": {},
   "outputs": [],
   "source": [
    "Ensemble_cnn_sub8[['id', 'target']].to_csv(path_new + 'Ensemble_subharmonic_NN_Entity_kagglemix_logit.csv', index=False)"
   ]
  }
 ],
 "metadata": {
  "kernelspec": {
   "display_name": "Python 3",
   "language": "python",
   "name": "python3"
  },
  "language_info": {
   "codemirror_mode": {
    "name": "ipython",
    "version": 3
   },
   "file_extension": ".py",
   "mimetype": "text/x-python",
   "name": "python",
   "nbconvert_exporter": "python",
   "pygments_lexer": "ipython3",
   "version": "3.5.3"
  }
 },
 "nbformat": 4,
 "nbformat_minor": 2
}
